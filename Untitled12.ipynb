{
  "nbformat": 4,
  "nbformat_minor": 0,
  "metadata": {
    "colab": {
      "provenance": [],
      "include_colab_link": true
    },
    "kernelspec": {
      "name": "python3",
      "display_name": "Python 3"
    },
    "language_info": {
      "name": "python"
    }
  },
  "cells": [
    {
      "cell_type": "markdown",
      "metadata": {
        "id": "view-in-github",
        "colab_type": "text"
      },
      "source": [
        "<a href=\"https://colab.research.google.com/github/hidrovnk/blablabla/blob/main/Untitled12.ipynb\" target=\"_parent\"><img src=\"https://colab.research.google.com/assets/colab-badge.svg\" alt=\"Open In Colab\"/></a>"
      ]
    },
    {
      "cell_type": "code",
      "execution_count": null,
      "metadata": {
        "id": "0xtDXeiFCW3O"
      },
      "outputs": [],
      "source": [
        "#Começo do programa\n",
        "\n",
        "p=float(input(\"Digite um peso:\"))\n",
        "h=float(input(\"Digite uma altura:\"))\n",
        " #Processamento\n",
        "imc = p/ (h ** 2)\n",
        "\n",
        "if imc <= 18.5:\n",
        "  print(\" abaixo do peso\")\n",
        "elif 18.5 <=  imc <= 25:\n",
        "  print(\"peso normal\")\n",
        "elif 25 >= imc <= 30:\n",
        "  print(\"acima do peso\")\n",
        "else:\n",
        "  print(\"Obeso\")\n"
      ]
    }
  ]
}